{
  "cells": [
    {
      "cell_type": "markdown",
      "metadata": {
        "id": "zkYlViLS7cgf"
      },
      "source": [
        "# AUTOENCODERS"
      ]
    },
    {
      "cell_type": "markdown",
      "metadata": {
        "id": "y4-vnk6aseQS"
      },
      "source": [
        "1. To prepare a dataset for autoencoder learning:"
      ]
    },
    {
      "cell_type": "code",
      "execution_count": null,
      "metadata": {
        "colab": {
          "base_uri": "https://localhost:8080/"
        },
        "id": "Jqof16ZpsgFN",
        "outputId": "28362420-7de1-4844-bba7-d63e9e0ed92b"
      },
      "outputs": [
        {
          "name": "stdout",
          "output_type": "stream",
          "text": [
            "Shape of training and test sets after scaling:\n",
            "Shape of X_train_scaled: (1226, 8, 8, 1)\n",
            "Shape of X_test_scaled: (307, 8, 8, 1)\n",
            "Shape of Y_train: (1226, 4)\n",
            "Shape of Y_test: (307, 4)\n"
          ]
        }
      ],
      "source": [
        "import numpy as np\n",
        "import pandas as pd\n",
        "from sklearn.model_selection import train_test_split\n",
        "from sklearn.preprocessing import MinMaxScaler\n",
        "from sklearn.preprocessing import OneHotEncoder\n",
        "\n",
        "\n",
        "data = pd.read_csv('./train_1.csv')\n",
        "\n",
        "# # Check for NaN values in dataframe\n",
        "# print(df.isnull().sum())\n",
        "\n",
        "# # Drop rows with NaN values\n",
        "# df.dropna(inplace=True)\n",
        "\n",
        "# # Replace NaN values with mean of the column\n",
        "# df.fillna(df.mean(), inplace=False)\n",
        "\n",
        "# # Selecting features and target\n",
        "# X = df[['Open', 'High', 'Low', 'Volume']]\n",
        "# Y = df['Close']\n",
        "\n",
        "\n",
        "# Extract features (8x8 pixels)\n",
        "X = data.iloc[:, :64].values.reshape(-1, 8, 8, 1)\n",
        "\n",
        "# Extract labels (last column)\n",
        "Y = data.iloc[:, 64].values.reshape(-1, 1)\n",
        "\n",
        "# One-hot encode the labels\n",
        "encoder = OneHotEncoder(categories='auto')\n",
        "Y = encoder.fit_transform(Y).toarray()\n",
        "\n",
        "# Splitting data into train and test sets\n",
        "X_train, X_test, Y_train, Y_test = train_test_split(X, Y, test_size=0.2, random_state=42)\n",
        "\n",
        "# Reshaping the data for MinMaxScaler\n",
        "X_train_reshaped = X_train.reshape(X_train.shape[0], -1)\n",
        "X_test_reshaped = X_test.reshape(X_test.shape[0], -1)\n",
        "\n",
        "# Feature scaling using MinMaxScaler\n",
        "scaler = MinMaxScaler()\n",
        "X_train_scaled = scaler.fit_transform(X_train_reshaped)\n",
        "X_test_scaled = scaler.transform(X_test_reshaped)\n",
        "\n",
        "# Reshape back to the original shape after scaling\n",
        "X_train_scaled = X_train_scaled.reshape(X_train.shape)\n",
        "X_test_scaled = X_test_scaled.reshape(X_test.shape)\n",
        "\n",
        "print(\"Shape of training and test sets after scaling:\")\n",
        "print(\"Shape of X_train_scaled:\", X_train_scaled.shape)\n",
        "print(\"Shape of X_test_scaled:\", X_test_scaled.shape)\n",
        "print(\"Shape of Y_train:\", Y_train.shape)\n",
        "print(\"Shape of Y_test:\", Y_test.shape)"
      ]
    },
    {
      "cell_type": "markdown",
      "metadata": {
        "id": "bYOk4dQiv0mq"
      },
      "source": [
        "2. Create separate encoder and decoder models and connect them into a single model:"
      ]
    },
    {
      "cell_type": "code",
      "execution_count": null,
      "metadata": {
        "id": "efk9Rl4-ABr7"
      },
      "outputs": [],
      "source": [
        "from tensorflow.keras.layers import Input, Flatten, Reshape, Dense\n",
        "from tensorflow.keras.models import Model\n",
        "\n",
        "# Define the autoencoder model\n",
        "input_shape = X_train_scaled.shape[1:]  # Shape of the input data (8, 8, 1)\n",
        "latent_dim = 64  # Dimensionality of the latent space\n",
        "\n",
        "# Encoder\n",
        "encoder_inputs = Input(shape=input_shape)\n",
        "x = Flatten()(encoder_inputs)\n",
        "encoded = Dense(latent_dim, activation='relu')(x)\n",
        "\n",
        "# Decoder\n",
        "decoded = Dense(np.prod(input_shape), activation='sigmoid')(encoded)\n",
        "decoded = Reshape(input_shape)(decoded)\n",
        "\n",
        "# Autoencoder model\n",
        "autoencoder = Model(encoder_inputs, decoded)\n",
        "\n",
        "# Compile the model\n",
        "autoencoder.compile(optimizer='adam', loss='mean_squared_error')\n"
      ]
    },
    {
      "cell_type": "markdown",
      "metadata": {
        "id": "bA7EWUK3ztEA"
      },
      "source": [
        "3. Learn autoencoder and loss function plotting from the learning history provided by the fit function:"
      ]
    },
    {
      "cell_type": "code",
      "execution_count": null,
      "metadata": {
        "colab": {
          "base_uri": "https://localhost:8080/",
          "height": 1000
        },
        "id": "wsylf2JXAnUm",
        "outputId": "af4d28cf-1b20-4802-d469-cd30ed7be75b"
      },
      "outputs": [
        {
          "name": "stdout",
          "output_type": "stream",
          "text": [
            "Epoch 1/20\n",
            "39/39 [==============================] - 1s 8ms/step - loss: 0.1234 - val_loss: 0.0717\n",
            "Epoch 2/20\n",
            "39/39 [==============================] - 0s 4ms/step - loss: 0.0592 - val_loss: 0.0492\n",
            "Epoch 3/20\n",
            "39/39 [==============================] - 0s 3ms/step - loss: 0.0438 - val_loss: 0.0378\n",
            "Epoch 4/20\n",
            "39/39 [==============================] - 0s 3ms/step - loss: 0.0346 - val_loss: 0.0308\n",
            "Epoch 5/20\n",
            "39/39 [==============================] - 0s 5ms/step - loss: 0.0290 - val_loss: 0.0265\n",
            "Epoch 6/20\n",
            "39/39 [==============================] - 0s 4ms/step - loss: 0.0255 - val_loss: 0.0237\n",
            "Epoch 7/20\n",
            "39/39 [==============================] - 0s 3ms/step - loss: 0.0229 - val_loss: 0.0215\n",
            "Epoch 8/20\n",
            "39/39 [==============================] - 0s 3ms/step - loss: 0.0209 - val_loss: 0.0197\n",
            "Epoch 9/20\n",
            "39/39 [==============================] - 0s 3ms/step - loss: 0.0191 - val_loss: 0.0181\n",
            "Epoch 10/20\n",
            "39/39 [==============================] - 0s 3ms/step - loss: 0.0176 - val_loss: 0.0167\n",
            "Epoch 11/20\n",
            "39/39 [==============================] - 0s 4ms/step - loss: 0.0163 - val_loss: 0.0155\n",
            "Epoch 12/20\n",
            "39/39 [==============================] - 0s 4ms/step - loss: 0.0152 - val_loss: 0.0145\n",
            "Epoch 13/20\n",
            "39/39 [==============================] - 0s 4ms/step - loss: 0.0142 - val_loss: 0.0136\n",
            "Epoch 14/20\n",
            "39/39 [==============================] - 0s 3ms/step - loss: 0.0133 - val_loss: 0.0128\n",
            "Epoch 15/20\n",
            "39/39 [==============================] - 0s 4ms/step - loss: 0.0125 - val_loss: 0.0121\n",
            "Epoch 16/20\n",
            "39/39 [==============================] - 0s 4ms/step - loss: 0.0119 - val_loss: 0.0116\n",
            "Epoch 17/20\n",
            "39/39 [==============================] - 0s 3ms/step - loss: 0.0113 - val_loss: 0.0110\n",
            "Epoch 18/20\n",
            "39/39 [==============================] - 0s 4ms/step - loss: 0.0108 - val_loss: 0.0105\n",
            "Epoch 19/20\n",
            "39/39 [==============================] - 0s 4ms/step - loss: 0.0102 - val_loss: 0.0101\n",
            "Epoch 20/20\n",
            "39/39 [==============================] - 0s 3ms/step - loss: 0.0098 - val_loss: 0.0097\n"
          ]
        },
        {
          "data": {
            "image/png": "[encoded data removed]",
            "text/plain": [
              "<Figure size 640x480 with 1 Axes>"
            ]
          },
          "metadata": {},
          "output_type": "display_data"
        }
      ],
      "source": [
        "import matplotlib.pyplot as plt\n",
        "\n",
        "# Train the autoencoder\n",
        "history = autoencoder.fit(X_train_scaled, X_train_scaled, epochs=20, batch_size=32, shuffle=True, validation_data=(X_test_scaled, X_test_scaled))\n",
        "\n",
        "# Accessing loss history and plotting\n",
        "loss = history.history['loss']\n",
        "val_loss = history.history['val_loss']\n",
        "\n",
        "plt.plot(loss, label='Training Loss')\n",
        "plt.plot(val_loss, label='Validation Loss')\n",
        "plt.title('Training and Validation Loss')\n",
        "plt.xlabel('Epochs')\n",
        "plt.ylabel('Loss')\n",
        "plt.legend()\n",
        "plt.show()"
      ]
    },
    {
      "cell_type": "markdown",
      "metadata": {
        "id": "bF_ssWnIBiAL"
      },
      "source": [
        "4. Generate latent features as an output from the encoder:"
      ]
    },
    {
      "cell_type": "code",
      "execution_count": null,
      "metadata": {
        "colab": {
          "base_uri": "https://localhost:8080/"
        },
        "id": "Vxe1CZlOBmz_",
        "outputId": "673543cf-ff9d-4748-abcb-4f0e695ab7c3"
      },
      "outputs": [
        {
          "name": "stdout",
          "output_type": "stream",
          "text": [
            "39/39 [==============================] - 0s 1ms/step\n",
            "10/10 [==============================] - 0s 2ms/step\n",
            "Shape of latent features (train): (1226, 64)\n",
            "Shape of latent features (test): (307, 64)\n",
            "Latent features (train):\n",
            "[[0.         0.125      0.75       1.         0.1875     0.\n",
            "  0.         0.         0.         0.33333334 0.875      0.875\n",
            "  0.25       0.         0.         0.         0.         0.5625\n",
            "  0.4375     0.4375     0.5        0.         0.         0.\n",
            "  0.         0.375      0.125      0.5        0.5        0.\n",
            "  0.         0.         0.         0.         0.         0.625\n",
            "  0.3125     0.         0.         0.         0.         0.\n",
            "  0.         0.875      0.125      0.         0.         0.\n",
            "  0.         0.         0.5625     1.         0.6875     0.5\n",
            "  0.3125     0.         0.         0.2        0.875      0.6875\n",
            "  0.75       1.         0.5625     0.        ]\n",
            " [0.         0.125      0.75       0.5        0.         0.\n",
            "  0.         0.         0.         0.6        1.         0.875\n",
            "  0.5625     0.         0.         0.         0.         0.5625\n",
            "  0.5        0.         1.         0.         0.         0.\n",
            "  0.         0.0625     0.         0.25       0.8125     0.\n",
            "  0.         0.         0.         0.         0.         0.5625\n",
            "  0.4375     0.         0.         0.         0.         0.\n",
            "  0.0625     0.8125     0.1875     0.         0.         0.\n",
            "  0.         0.0625     0.9375     0.9375     0.6875     0.625\n",
            "  0.4375     0.         0.         0.         0.6875     0.75\n",
            "  0.75       0.75       0.6875     0.        ]\n",
            " [0.         0.         0.4375     0.9375     0.9375     0.5625\n",
            "  0.0625     0.         0.         0.46666667 0.9375     0.3125\n",
            "  0.25       0.875      0.25       0.         0.         0.125\n",
            "  0.125      0.         0.4375     0.8125     0.08333334 0.\n",
            "  0.         0.         0.125      0.75       0.9375     0.3125\n",
            "  0.         0.         0.         0.         0.0625     0.3125\n",
            "  0.625      0.8125     0.         0.         0.         0.\n",
            "  0.         0.         0.         0.625      0.4375     0.\n",
            "  0.         0.         0.6875     0.0625     0.0625     0.75\n",
            "  0.4375     0.         0.         0.         0.5        0.875\n",
            "  0.8125     0.5        0.         0.        ]\n",
            " [0.         0.         0.375      0.6875     0.         0.\n",
            "  0.         0.         0.         0.06666667 0.9375     0.75\n",
            "  0.125      0.25       0.         0.         0.         0.3125\n",
            "  0.75       0.1875     1.         1.         0.33333334 0.\n",
            "  0.         0.3125     0.5625     0.         0.5        0.4375\n",
            "  0.6666667  0.         0.         0.6666667  0.5        0.\n",
            "  0.         0.25       0.5714286  0.         0.         0.6363636\n",
            "  0.5625     0.         0.         0.25       0.5625     0.\n",
            "  0.         0.         0.9375     0.5        0.5625     0.9375\n",
            "  0.4375     0.         0.         0.         0.375      1.\n",
            "  1.         0.5625     0.         0.        ]\n",
            " [0.         0.         0.1875     0.8125     0.75       0.\n",
            "  0.         0.         0.         0.06666667 1.         0.8125\n",
            "  1.         0.25       0.         0.         0.         0.5\n",
            "  0.375      0.4375     1.         0.0625     0.         0.\n",
            "  0.         0.         0.125      0.9375     0.5625     0.\n",
            "  0.         0.         0.         0.         0.6875     0.875\n",
            "  0.         0.         0.         0.         0.         0.\n",
            "  1.         0.625      0.         0.         0.         0.\n",
            "  0.         0.         0.9375     0.8125     0.5        0.5625\n",
            "  0.25       0.         0.         0.         0.1875     0.8125\n",
            "  0.9375     0.8125     0.125      0.        ]]\n",
            "\n",
            "Latent features (test):\n",
            "[[0.         0.         0.0625     0.8125     0.8125     0.\n",
            "  0.         0.         0.         0.         0.6875     0.875\n",
            "  0.9375     0.6875     0.         0.         0.         0.25\n",
            "  1.         0.25       0.125      0.9375     0.41666666 0.\n",
            "  0.         0.5        0.5625     0.         0.         0.75\n",
            "  0.5833333  0.         0.         0.41666666 0.625      0.\n",
            "  0.         0.75       0.5        0.         0.         0.45454547\n",
            "  0.875      0.0625     0.125      0.9375     0.0625     0.\n",
            "  0.         0.0625     0.875      0.9375     0.75       0.75\n",
            "  0.         0.         0.         0.         0.125      0.8125\n",
            "  0.75       0.1875     0.         0.        ]\n",
            " [0.         0.         0.1875     0.9375     0.4375     0.\n",
            "  0.         0.         0.         0.         0.8125     1.\n",
            "  0.625      0.         0.         0.         0.         0.3125\n",
            "  1.         0.4375     0.3125     0.1875     0.         0.\n",
            "  0.         0.3125     1.         0.5        1.         0.9375\n",
            "  0.16666667 0.         0.         0.16666667 0.75       0.0625\n",
            "  0.375      0.5        0.71428573 0.         0.         0.09090909\n",
            "  0.875      0.125      0.         0.         0.8125     0.\n",
            "  0.         0.         0.5625     0.9375     0.75       0.9375\n",
            "  1.         0.         0.         0.         0.125      0.625\n",
            "  0.9375     1.         0.4375     0.        ]\n",
            " [0.         0.         0.5625     1.         0.625      0.0625\n",
            "  0.         0.         0.         0.6        1.         0.5625\n",
            "  1.         0.375      0.         0.         0.         1.\n",
            "  0.5625     0.1875     1.         0.3125     0.         0.\n",
            "  0.         0.1875     0.375      0.75       1.         0.625\n",
            "  0.         0.         0.         0.         0.0625     0.625\n",
            "  0.5625     0.9375     0.5714286  0.         0.         0.\n",
            "  0.         0.         0.         0.5625     0.9375     0.\n",
            "  0.         0.         0.1875     0.5625     0.125      0.8125\n",
            "  0.75       0.         0.         0.         0.4375     1.\n",
            "  1.         0.9375     0.25       0.        ]\n",
            " [0.         0.         0.625      1.         0.9375     0.375\n",
            "  0.         0.         0.         0.         0.         0.25\n",
            "  1.         0.9375     0.         0.         0.         0.\n",
            "  0.         0.         0.875      0.8125     0.         0.\n",
            "  0.         0.         0.         0.         0.875      1.\n",
            "  0.25       0.         0.         0.         0.         0.\n",
            "  0.1875     0.9375     0.85714287 0.         0.         0.\n",
            "  0.         0.         0.0625     0.9375     0.9375     0.\n",
            "  0.         0.         0.         0.125      0.75       1.\n",
            "  0.5        0.         0.         0.         0.4375     0.9375\n",
            "  0.9375     0.4375     0.         0.        ]\n",
            " [0.         0.         0.625      1.         0.375      0.\n",
            "  0.         0.         0.         0.         0.9375     0.875\n",
            "  1.         0.         0.         0.         0.         0.\n",
            "  0.875      0.25       1.         0.         0.         0.\n",
            "  0.         0.         0.         0.125      0.9375     0.\n",
            "  0.         0.         0.         0.         0.         0.375\n",
            "  0.625      0.         0.         0.         0.         0.\n",
            "  0.0625     0.875      0.375      0.         0.         0.\n",
            "  0.         0.0625     0.875      1.         0.8125     0.75\n",
            "  0.375      0.         0.         0.         0.5        0.5\n",
            "  0.5        0.6875     0.6875     0.        ]]\n"
          ]
        }
      ],
      "source": [
        "# Extracting the encoder part\n",
        "encoder = Model(inputs=autoencoder.input, outputs=autoencoder.layers[1].output)\n",
        "\n",
        "# Getting latent features from the encoder\n",
        "latent_features_train = encoder.predict(X_train_scaled)\n",
        "latent_features_test = encoder.predict(X_test_scaled)\n",
        "\n",
        "# Displaying the shapes of the latent features\n",
        "print(\"Shape of latent features (train):\", latent_features_train.shape)\n",
        "print(\"Shape of latent features (test):\", latent_features_test.shape)\n",
        "\n",
        "# Displaying the first few rows of latent features\n",
        "print(\"Latent features (train):\")\n",
        "print(latent_features_train[:5])  # Displaying the first 5 rows\n",
        "print(\"\\nLatent features (test):\")\n",
        "print(latent_features_test[:5])  # Displaying the first 5 rows\n"
      ]
    },
    {
      "cell_type": "markdown",
      "metadata": {
        "id": "TWldzZQgOPMZ"
      },
      "source": [
        "5. To generate output images based on latent features"
      ]
    },
    {
      "cell_type": "code",
      "execution_count": null,
      "metadata": {
        "colab": {
          "base_uri": "https://localhost:8080/",
          "height": 174
        },
        "id": "74G_LDbKOVku",
        "outputId": "a4c9aff5-0b29-462c-871e-2b10d191a2c8"
      },
      "outputs": [
        {
          "name": "stdout",
          "output_type": "stream",
          "text": [
            "39/39 [==============================] - 0s 2ms/step\n",
            "10/10 [==============================] - 0s 3ms/step\n",
            "Generated images:\n"
          ]
        },
        {
          "data": {
            "image/png": "[encoded data removed]",
            "text/plain": [
              "<Figure size 640x480 with 5 Axes>"
            ]
          },
          "metadata": {},
          "output_type": "display_data"
        }
      ],
      "source": [
        "# Extracting the encoder and decoder parts separately\n",
        "encoder = Model(inputs=autoencoder.input, outputs=autoencoder.layers[1].output)\n",
        "decoder_input = Input(shape=(latent_dim,))\n",
        "decoder_output = autoencoder.layers[-1](decoder_input)  # Assuming the last layer is the decoder\n",
        "\n",
        "decoder = Model(inputs=decoder_input, outputs=decoder_output)\n",
        "\n",
        "# Generate output images based on latent features\n",
        "output_images_train = decoder.predict(latent_features_train)\n",
        "output_images_test = decoder.predict(latent_features_test)\n",
        "\n",
        "# Display some generated output images (e.g., first 5)\n",
        "print('Generated images:')\n",
        "for i in range(5):\n",
        "    # plt.subplot(2, 5, i + 1)\n",
        "    # plt.imshow(X_train_scaled[i].reshape(8, 8), cmap='gray')\n",
        "    # plt.title('Original')\n",
        "    # plt.axis('off')\n",
        "\n",
        "    plt.subplot(2, 5, i + 6)\n",
        "    plt.imshow(output_images_train[i].reshape(8, 8), cmap='gray')\n",
        "\n",
        "    plt.axis('off')\n",
        "\n",
        "plt.show()\n"
      ]
    }
  ],
  "metadata": {
    "colab": {
      "provenance": []
    },
    "kernelspec": {
      "display_name": "Python 3",
      "language": "python",
      "name": "python3"
    },
    "language_info": {
      "codemirror_mode": {
        "name": "ipython",
        "version": 3
      },
      "file_extension": ".py",
      "mimetype": "text/x-python",
      "name": "python",
      "nbconvert_exporter": "python",
      "pygments_lexer": "ipython3",
      "version": "3.7.7"
    }
  },
  "nbformat": 4,
  "nbformat_minor": 0
}
